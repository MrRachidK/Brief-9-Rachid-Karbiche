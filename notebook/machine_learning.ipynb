{
 "metadata": {
  "language_info": {
   "codemirror_mode": {
    "name": "ipython",
    "version": 3
   },
   "file_extension": ".py",
   "mimetype": "text/x-python",
   "name": "python",
   "nbconvert_exporter": "python",
   "pygments_lexer": "ipython3",
   "version": "3.8.5-final"
  },
  "orig_nbformat": 2,
  "kernelspec": {
   "name": "python3",
   "display_name": "Python 3.8.5 64-bit ('base': conda)",
   "metadata": {
    "interpreter": {
     "hash": "5b9c502b618e97131917a2f1409b4700bb639cdf99ce16cd88a0e27a90524386"
    }
   }
  }
 },
 "nbformat": 4,
 "nbformat_minor": 2,
 "cells": [
  {
   "source": [
    "# Importation des modules utiles à la construction de notre modèle de machine learning"
   ],
   "cell_type": "markdown",
   "metadata": {}
  },
  {
   "cell_type": "code",
   "execution_count": 7,
   "metadata": {},
   "outputs": [],
   "source": [
    "import pandas as pd\n",
    "import numpy as np\n",
    "from sklearn.model_selection import train_test_split\n",
    "from sklearn.metrics import mean_absolute_error\n",
    "import os"
   ]
  },
  {
   "source": [
    "# Lecture de la donnée"
   ],
   "cell_type": "markdown",
   "metadata": {}
  },
  {
   "cell_type": "code",
   "execution_count": 8,
   "metadata": {},
   "outputs": [],
   "source": [
    "data = pd.read_csv('/home/apprenant/Documents/Brief-9-Rachid-Karbiche/data/02_intermediate/cleaned_data.csv')"
   ]
  },
  {
   "cell_type": "code",
   "execution_count": 9,
   "metadata": {},
   "outputs": [
    {
     "output_type": "execute_result",
     "data": {
      "text/plain": [
       "       transactiondate hashottuborspa propertycountylandusecode  \\\n",
       "0           2016-01-01           None                      0100   \n",
       "1           2016-01-01           None                         1   \n",
       "2           2016-01-01           None                      0100   \n",
       "3           2016-01-02           None                      010C   \n",
       "4           2016-01-02           None                       122   \n",
       "...                ...            ...                       ...   \n",
       "167883      2017-09-20           None                      010C   \n",
       "167884      2017-09-20           None                      0100   \n",
       "167885      2017-09-21           None                      1111   \n",
       "167886      2017-09-21           None                      0100   \n",
       "167887      2017-09-25           None                      0100   \n",
       "\n",
       "       propertyzoningdesc fireplaceflag taxdelinquencyflag  \n",
       "0                    LARS          None               None  \n",
       "1                       0          None               None  \n",
       "2                    PSR6          None               None  \n",
       "3                    LAR3          None               None  \n",
       "4                       0          None               None  \n",
       "...                   ...           ...                ...  \n",
       "167883              LARD3          None               None  \n",
       "167884             LARE40          None               None  \n",
       "167885                  0          None               None  \n",
       "167886              SER1*          None               None  \n",
       "167887          WHR16000*          None               None  \n",
       "\n",
       "[167888 rows x 6 columns]"
      ],
      "text/html": "<div>\n<style scoped>\n    .dataframe tbody tr th:only-of-type {\n        vertical-align: middle;\n    }\n\n    .dataframe tbody tr th {\n        vertical-align: top;\n    }\n\n    .dataframe thead th {\n        text-align: right;\n    }\n</style>\n<table border=\"1\" class=\"dataframe\">\n  <thead>\n    <tr style=\"text-align: right;\">\n      <th></th>\n      <th>transactiondate</th>\n      <th>hashottuborspa</th>\n      <th>propertycountylandusecode</th>\n      <th>propertyzoningdesc</th>\n      <th>fireplaceflag</th>\n      <th>taxdelinquencyflag</th>\n    </tr>\n  </thead>\n  <tbody>\n    <tr>\n      <th>0</th>\n      <td>2016-01-01</td>\n      <td>None</td>\n      <td>0100</td>\n      <td>LARS</td>\n      <td>None</td>\n      <td>None</td>\n    </tr>\n    <tr>\n      <th>1</th>\n      <td>2016-01-01</td>\n      <td>None</td>\n      <td>1</td>\n      <td>0</td>\n      <td>None</td>\n      <td>None</td>\n    </tr>\n    <tr>\n      <th>2</th>\n      <td>2016-01-01</td>\n      <td>None</td>\n      <td>0100</td>\n      <td>PSR6</td>\n      <td>None</td>\n      <td>None</td>\n    </tr>\n    <tr>\n      <th>3</th>\n      <td>2016-01-02</td>\n      <td>None</td>\n      <td>010C</td>\n      <td>LAR3</td>\n      <td>None</td>\n      <td>None</td>\n    </tr>\n    <tr>\n      <th>4</th>\n      <td>2016-01-02</td>\n      <td>None</td>\n      <td>122</td>\n      <td>0</td>\n      <td>None</td>\n      <td>None</td>\n    </tr>\n    <tr>\n      <th>...</th>\n      <td>...</td>\n      <td>...</td>\n      <td>...</td>\n      <td>...</td>\n      <td>...</td>\n      <td>...</td>\n    </tr>\n    <tr>\n      <th>167883</th>\n      <td>2017-09-20</td>\n      <td>None</td>\n      <td>010C</td>\n      <td>LARD3</td>\n      <td>None</td>\n      <td>None</td>\n    </tr>\n    <tr>\n      <th>167884</th>\n      <td>2017-09-20</td>\n      <td>None</td>\n      <td>0100</td>\n      <td>LARE40</td>\n      <td>None</td>\n      <td>None</td>\n    </tr>\n    <tr>\n      <th>167885</th>\n      <td>2017-09-21</td>\n      <td>None</td>\n      <td>1111</td>\n      <td>0</td>\n      <td>None</td>\n      <td>None</td>\n    </tr>\n    <tr>\n      <th>167886</th>\n      <td>2017-09-21</td>\n      <td>None</td>\n      <td>0100</td>\n      <td>SER1*</td>\n      <td>None</td>\n      <td>None</td>\n    </tr>\n    <tr>\n      <th>167887</th>\n      <td>2017-09-25</td>\n      <td>None</td>\n      <td>0100</td>\n      <td>WHR16000*</td>\n      <td>None</td>\n      <td>None</td>\n    </tr>\n  </tbody>\n</table>\n<p>167888 rows × 6 columns</p>\n</div>"
     },
     "metadata": {},
     "execution_count": 9
    }
   ],
   "source": [
    "data.select_dtypes('object')"
   ]
  },
  {
   "cell_type": "code",
   "execution_count": 10,
   "metadata": {},
   "outputs": [
    {
     "output_type": "execute_result",
     "data": {
      "text/plain": [
       "(167888, 45)"
      ]
     },
     "metadata": {},
     "execution_count": 10
    }
   ],
   "source": [
    "data.shape"
   ]
  },
  {
   "cell_type": "code",
   "execution_count": 11,
   "metadata": {},
   "outputs": [],
   "source": [
    "xgboost_data = data.drop(['transactiondate'], axis=1)\n",
    "one_hot_encoding_X = pd.get_dummies(xgboost_data)"
   ]
  },
  {
   "cell_type": "code",
   "execution_count": 12,
   "metadata": {},
   "outputs": [
    {
     "output_type": "execute_result",
     "data": {
      "text/plain": [
       "   parcelid  logerror  airconditioningtypeid  bathroomcnt  bedroomcnt  \\\n",
       "0  11016594    0.0276                      1          2.0           3   \n",
       "1  14366692   -0.1684                      0          3.5           4   \n",
       "2  12098116   -0.0040                      1          3.0           2   \n",
       "3  12643413    0.0218                      1          2.0           2   \n",
       "4  14432541   -0.0050                      0          2.5           4   \n",
       "\n",
       "   buildingqualitytypeid  calculatedbathnbr  calculatedfinishedsquarefeet  \\\n",
       "0                      4                2.0                          1684   \n",
       "1                      0                3.5                          2263   \n",
       "2                      4                3.0                          2217   \n",
       "3                      4                2.0                           839   \n",
       "4                      0                2.5                          2283   \n",
       "\n",
       "   finishedsquarefeet12  fips  ...  propertyzoningdesc_WVRPD18U*  \\\n",
       "0                  1684  6037  ...                             0   \n",
       "1                  2263  6059  ...                             0   \n",
       "2                  2217  6037  ...                             0   \n",
       "3                   839  6037  ...                             0   \n",
       "4                  2283  6059  ...                             0   \n",
       "\n",
       "   propertyzoningdesc_WVRPD40000  propertyzoningdesc_WVRPD4OOOO  \\\n",
       "0                              0                              0   \n",
       "1                              0                              0   \n",
       "2                              0                              0   \n",
       "3                              0                              0   \n",
       "4                              0                              0   \n",
       "\n",
       "   propertyzoningdesc_WVRPD56*  propertyzoningdesc_WVRR  \\\n",
       "0                            0                        0   \n",
       "1                            0                        0   \n",
       "2                            0                        0   \n",
       "3                            0                        0   \n",
       "4                            0                        0   \n",
       "\n",
       "   propertyzoningdesc_WVRR1-RPD1  fireplaceflag_None  fireplaceflag_True  \\\n",
       "0                              0                   1                   0   \n",
       "1                              0                   1                   0   \n",
       "2                              0                   1                   0   \n",
       "3                              0                   1                   0   \n",
       "4                              0                   1                   0   \n",
       "\n",
       "   taxdelinquencyflag_None  taxdelinquencyflag_Y  \n",
       "0                        1                     0  \n",
       "1                        1                     0  \n",
       "2                        1                     0  \n",
       "3                        1                     0  \n",
       "4                        1                     0  \n",
       "\n",
       "[5 rows x 2482 columns]"
      ],
      "text/html": "<div>\n<style scoped>\n    .dataframe tbody tr th:only-of-type {\n        vertical-align: middle;\n    }\n\n    .dataframe tbody tr th {\n        vertical-align: top;\n    }\n\n    .dataframe thead th {\n        text-align: right;\n    }\n</style>\n<table border=\"1\" class=\"dataframe\">\n  <thead>\n    <tr style=\"text-align: right;\">\n      <th></th>\n      <th>parcelid</th>\n      <th>logerror</th>\n      <th>airconditioningtypeid</th>\n      <th>bathroomcnt</th>\n      <th>bedroomcnt</th>\n      <th>buildingqualitytypeid</th>\n      <th>calculatedbathnbr</th>\n      <th>calculatedfinishedsquarefeet</th>\n      <th>finishedsquarefeet12</th>\n      <th>fips</th>\n      <th>...</th>\n      <th>propertyzoningdesc_WVRPD18U*</th>\n      <th>propertyzoningdesc_WVRPD40000</th>\n      <th>propertyzoningdesc_WVRPD4OOOO</th>\n      <th>propertyzoningdesc_WVRPD56*</th>\n      <th>propertyzoningdesc_WVRR</th>\n      <th>propertyzoningdesc_WVRR1-RPD1</th>\n      <th>fireplaceflag_None</th>\n      <th>fireplaceflag_True</th>\n      <th>taxdelinquencyflag_None</th>\n      <th>taxdelinquencyflag_Y</th>\n    </tr>\n  </thead>\n  <tbody>\n    <tr>\n      <th>0</th>\n      <td>11016594</td>\n      <td>0.0276</td>\n      <td>1</td>\n      <td>2.0</td>\n      <td>3</td>\n      <td>4</td>\n      <td>2.0</td>\n      <td>1684</td>\n      <td>1684</td>\n      <td>6037</td>\n      <td>...</td>\n      <td>0</td>\n      <td>0</td>\n      <td>0</td>\n      <td>0</td>\n      <td>0</td>\n      <td>0</td>\n      <td>1</td>\n      <td>0</td>\n      <td>1</td>\n      <td>0</td>\n    </tr>\n    <tr>\n      <th>1</th>\n      <td>14366692</td>\n      <td>-0.1684</td>\n      <td>0</td>\n      <td>3.5</td>\n      <td>4</td>\n      <td>0</td>\n      <td>3.5</td>\n      <td>2263</td>\n      <td>2263</td>\n      <td>6059</td>\n      <td>...</td>\n      <td>0</td>\n      <td>0</td>\n      <td>0</td>\n      <td>0</td>\n      <td>0</td>\n      <td>0</td>\n      <td>1</td>\n      <td>0</td>\n      <td>1</td>\n      <td>0</td>\n    </tr>\n    <tr>\n      <th>2</th>\n      <td>12098116</td>\n      <td>-0.0040</td>\n      <td>1</td>\n      <td>3.0</td>\n      <td>2</td>\n      <td>4</td>\n      <td>3.0</td>\n      <td>2217</td>\n      <td>2217</td>\n      <td>6037</td>\n      <td>...</td>\n      <td>0</td>\n      <td>0</td>\n      <td>0</td>\n      <td>0</td>\n      <td>0</td>\n      <td>0</td>\n      <td>1</td>\n      <td>0</td>\n      <td>1</td>\n      <td>0</td>\n    </tr>\n    <tr>\n      <th>3</th>\n      <td>12643413</td>\n      <td>0.0218</td>\n      <td>1</td>\n      <td>2.0</td>\n      <td>2</td>\n      <td>4</td>\n      <td>2.0</td>\n      <td>839</td>\n      <td>839</td>\n      <td>6037</td>\n      <td>...</td>\n      <td>0</td>\n      <td>0</td>\n      <td>0</td>\n      <td>0</td>\n      <td>0</td>\n      <td>0</td>\n      <td>1</td>\n      <td>0</td>\n      <td>1</td>\n      <td>0</td>\n    </tr>\n    <tr>\n      <th>4</th>\n      <td>14432541</td>\n      <td>-0.0050</td>\n      <td>0</td>\n      <td>2.5</td>\n      <td>4</td>\n      <td>0</td>\n      <td>2.5</td>\n      <td>2283</td>\n      <td>2283</td>\n      <td>6059</td>\n      <td>...</td>\n      <td>0</td>\n      <td>0</td>\n      <td>0</td>\n      <td>0</td>\n      <td>0</td>\n      <td>0</td>\n      <td>1</td>\n      <td>0</td>\n      <td>1</td>\n      <td>0</td>\n    </tr>\n  </tbody>\n</table>\n<p>5 rows × 2482 columns</p>\n</div>"
     },
     "metadata": {},
     "execution_count": 12
    }
   ],
   "source": [
    "one_hot_encoding_X.head()"
   ]
  },
  {
   "cell_type": "code",
   "execution_count": 13,
   "metadata": {},
   "outputs": [],
   "source": [
    "data = data.drop(['transactiondate', 'hashottuborspa', 'propertycountylandusecode', 'propertyzoningdesc', 'fireplaceflag', 'taxdelinquencyflag'], axis=1)"
   ]
  },
  {
   "source": [
    "# Premier aperçu d'un modèle : Decision Tree Regressor"
   ],
   "cell_type": "markdown",
   "metadata": {}
  },
  {
   "cell_type": "code",
   "execution_count": 22,
   "metadata": {},
   "outputs": [],
   "source": [
    "from sklearn.tree import DecisionTreeRegressor\n",
    "from sklearn.metrics import r2_score\n",
    "from sklearn.metrics import mean_squared_error, mean_absolute_error\n",
    "model = DecisionTreeRegressor()"
   ]
  },
  {
   "source": [
    "## Choix des variables explicatives et de la variable cible"
   ],
   "cell_type": "markdown",
   "metadata": {}
  },
  {
   "cell_type": "code",
   "execution_count": 57,
   "metadata": {},
   "outputs": [],
   "source": [
    "y = data[\"logerror\"].values.astype(np.float32)\n",
    "X = data.drop(['parcelid', 'logerror', 'transaction_month', 'transaction_year'], axis=1)\n",
    "train_X, val_X, train_y, val_y = train_test_split(X, y,random_state = 0)"
   ]
  },
  {
   "source": [
    "## Entraînement sur nos données d'entraînement"
   ],
   "cell_type": "markdown",
   "metadata": {}
  },
  {
   "cell_type": "code",
   "execution_count": 10,
   "metadata": {},
   "outputs": [
    {
     "output_type": "execute_result",
     "data": {
      "text/plain": [
       "DecisionTreeRegressor()"
      ]
     },
     "metadata": {},
     "execution_count": 10
    }
   ],
   "source": [
    "model.fit(train_X, train_y)"
   ]
  },
  {
   "source": [
    "## Prédictions à réaliser"
   ],
   "cell_type": "markdown",
   "metadata": {}
  },
  {
   "cell_type": "code",
   "execution_count": 18,
   "metadata": {},
   "outputs": [
    {
     "output_type": "error",
     "ename": "NotFittedError",
     "evalue": "This DecisionTreeRegressor instance is not fitted yet. Call 'fit' with appropriate arguments before using this estimator.",
     "traceback": [
      "\u001b[0;31m---------------------------------------------------------------------------\u001b[0m",
      "\u001b[0;31mNotFittedError\u001b[0m                            Traceback (most recent call last)",
      "\u001b[0;32m<ipython-input-18-aa0cb8b61b82>\u001b[0m in \u001b[0;36m<module>\u001b[0;34m\u001b[0m\n\u001b[0;32m----> 1\u001b[0;31m \u001b[0mpredictions\u001b[0m \u001b[0;34m=\u001b[0m \u001b[0mmodel\u001b[0m\u001b[0;34m.\u001b[0m\u001b[0mpredict\u001b[0m\u001b[0;34m(\u001b[0m\u001b[0mval_X\u001b[0m\u001b[0;34m)\u001b[0m\u001b[0;34m\u001b[0m\u001b[0;34m\u001b[0m\u001b[0m\n\u001b[0m",
      "\u001b[0;32m~/anaconda3/lib/python3.8/site-packages/sklearn/tree/_classes.py\u001b[0m in \u001b[0;36mpredict\u001b[0;34m(self, X, check_input)\u001b[0m\n\u001b[1;32m    424\u001b[0m             \u001b[0mThe\u001b[0m \u001b[0mpredicted\u001b[0m \u001b[0mclasses\u001b[0m\u001b[0;34m,\u001b[0m \u001b[0;32mor\u001b[0m \u001b[0mthe\u001b[0m \u001b[0mpredict\u001b[0m \u001b[0mvalues\u001b[0m\u001b[0;34m.\u001b[0m\u001b[0;34m\u001b[0m\u001b[0;34m\u001b[0m\u001b[0m\n\u001b[1;32m    425\u001b[0m         \"\"\"\n\u001b[0;32m--> 426\u001b[0;31m         \u001b[0mcheck_is_fitted\u001b[0m\u001b[0;34m(\u001b[0m\u001b[0mself\u001b[0m\u001b[0;34m)\u001b[0m\u001b[0;34m\u001b[0m\u001b[0;34m\u001b[0m\u001b[0m\n\u001b[0m\u001b[1;32m    427\u001b[0m         \u001b[0mX\u001b[0m \u001b[0;34m=\u001b[0m \u001b[0mself\u001b[0m\u001b[0;34m.\u001b[0m\u001b[0m_validate_X_predict\u001b[0m\u001b[0;34m(\u001b[0m\u001b[0mX\u001b[0m\u001b[0;34m,\u001b[0m \u001b[0mcheck_input\u001b[0m\u001b[0;34m)\u001b[0m\u001b[0;34m\u001b[0m\u001b[0;34m\u001b[0m\u001b[0m\n\u001b[1;32m    428\u001b[0m         \u001b[0mproba\u001b[0m \u001b[0;34m=\u001b[0m \u001b[0mself\u001b[0m\u001b[0;34m.\u001b[0m\u001b[0mtree_\u001b[0m\u001b[0;34m.\u001b[0m\u001b[0mpredict\u001b[0m\u001b[0;34m(\u001b[0m\u001b[0mX\u001b[0m\u001b[0;34m)\u001b[0m\u001b[0;34m\u001b[0m\u001b[0;34m\u001b[0m\u001b[0m\n",
      "\u001b[0;32m~/anaconda3/lib/python3.8/site-packages/sklearn/utils/validation.py\u001b[0m in \u001b[0;36minner_f\u001b[0;34m(*args, **kwargs)\u001b[0m\n\u001b[1;32m     70\u001b[0m                           FutureWarning)\n\u001b[1;32m     71\u001b[0m         \u001b[0mkwargs\u001b[0m\u001b[0;34m.\u001b[0m\u001b[0mupdate\u001b[0m\u001b[0;34m(\u001b[0m\u001b[0;34m{\u001b[0m\u001b[0mk\u001b[0m\u001b[0;34m:\u001b[0m \u001b[0marg\u001b[0m \u001b[0;32mfor\u001b[0m \u001b[0mk\u001b[0m\u001b[0;34m,\u001b[0m \u001b[0marg\u001b[0m \u001b[0;32min\u001b[0m \u001b[0mzip\u001b[0m\u001b[0;34m(\u001b[0m\u001b[0msig\u001b[0m\u001b[0;34m.\u001b[0m\u001b[0mparameters\u001b[0m\u001b[0;34m,\u001b[0m \u001b[0margs\u001b[0m\u001b[0;34m)\u001b[0m\u001b[0;34m}\u001b[0m\u001b[0;34m)\u001b[0m\u001b[0;34m\u001b[0m\u001b[0;34m\u001b[0m\u001b[0m\n\u001b[0;32m---> 72\u001b[0;31m         \u001b[0;32mreturn\u001b[0m \u001b[0mf\u001b[0m\u001b[0;34m(\u001b[0m\u001b[0;34m**\u001b[0m\u001b[0mkwargs\u001b[0m\u001b[0;34m)\u001b[0m\u001b[0;34m\u001b[0m\u001b[0;34m\u001b[0m\u001b[0m\n\u001b[0m\u001b[1;32m     73\u001b[0m     \u001b[0;32mreturn\u001b[0m \u001b[0minner_f\u001b[0m\u001b[0;34m\u001b[0m\u001b[0;34m\u001b[0m\u001b[0m\n\u001b[1;32m     74\u001b[0m \u001b[0;34m\u001b[0m\u001b[0m\n",
      "\u001b[0;32m~/anaconda3/lib/python3.8/site-packages/sklearn/utils/validation.py\u001b[0m in \u001b[0;36mcheck_is_fitted\u001b[0;34m(estimator, attributes, msg, all_or_any)\u001b[0m\n\u001b[1;32m   1017\u001b[0m \u001b[0;34m\u001b[0m\u001b[0m\n\u001b[1;32m   1018\u001b[0m     \u001b[0;32mif\u001b[0m \u001b[0;32mnot\u001b[0m \u001b[0mattrs\u001b[0m\u001b[0;34m:\u001b[0m\u001b[0;34m\u001b[0m\u001b[0;34m\u001b[0m\u001b[0m\n\u001b[0;32m-> 1019\u001b[0;31m         \u001b[0;32mraise\u001b[0m \u001b[0mNotFittedError\u001b[0m\u001b[0;34m(\u001b[0m\u001b[0mmsg\u001b[0m \u001b[0;34m%\u001b[0m \u001b[0;34m{\u001b[0m\u001b[0;34m'name'\u001b[0m\u001b[0;34m:\u001b[0m \u001b[0mtype\u001b[0m\u001b[0;34m(\u001b[0m\u001b[0mestimator\u001b[0m\u001b[0;34m)\u001b[0m\u001b[0;34m.\u001b[0m\u001b[0m__name__\u001b[0m\u001b[0;34m}\u001b[0m\u001b[0;34m)\u001b[0m\u001b[0;34m\u001b[0m\u001b[0;34m\u001b[0m\u001b[0m\n\u001b[0m\u001b[1;32m   1020\u001b[0m \u001b[0;34m\u001b[0m\u001b[0m\n\u001b[1;32m   1021\u001b[0m \u001b[0;34m\u001b[0m\u001b[0m\n",
      "\u001b[0;31mNotFittedError\u001b[0m: This DecisionTreeRegressor instance is not fitted yet. Call 'fit' with appropriate arguments before using this estimator."
     ]
    }
   ],
   "source": [
    "predictions = model.predict(val_X)"
   ]
  },
  {
   "cell_type": "code",
   "execution_count": 13,
   "metadata": {},
   "outputs": [
    {
     "output_type": "stream",
     "name": "stdout",
     "text": [
      "-1.288696106629561\n0.11671748701895412\n"
     ]
    }
   ],
   "source": [
    "precision = r2_score(val_y, predictions)\n",
    "error = mean_absolute_error(val_y, predictions)\n",
    "print(precision)\n",
    "print(error)"
   ]
  },
  {
   "source": [
    "# Deuxième aperçu d'un modèle : Random Forest Regressor"
   ],
   "cell_type": "markdown",
   "metadata": {}
  },
  {
   "cell_type": "code",
   "execution_count": 21,
   "metadata": {},
   "outputs": [],
   "source": [
    "from sklearn.ensemble import RandomForestRegressor\n",
    "from sklearn.model_selection import GridSearchCV"
   ]
  },
  {
   "cell_type": "code",
   "execution_count": 20,
   "metadata": {},
   "outputs": [
    {
     "output_type": "stream",
     "name": "stdout",
     "text": [
      "0.06862986269569013\n"
     ]
    }
   ],
   "source": [
    "forest_model = RandomForestRegressor(n_estimators = 60, random_state=1, max_features = 'sqrt', max_depth = 14, min_samples_split = 5, min_samples_leaf = 2, bootstrap = True, criterion = 'mae')\n",
    "forest_model.fit(train_X, train_y)\n",
    "forest_preds = forest_model.predict(val_X)\n",
    "print(mean_absolute_error(val_y, forest_preds))"
   ]
  },
  {
   "cell_type": "code",
   "execution_count": 28,
   "metadata": {},
   "outputs": [],
   "source": [
    "def modelizing_GridSearchCV(target_value, evaluated_values, defined_parameters, model_name):\n",
    "    y = target_value\n",
    "    X = evaluated_values\n",
    "    train_X, val_X, train_y, val_y = train_test_split(X, y,random_state = 1)\n",
    "    parameters = defined_parameters\n",
    "    model = model_name\n",
    "    grid = GridSearchCV(model, parameters)\n",
    "    grid.fit(X, y)\n",
    "    return grid, train_X, val_X, train_y, val_y"
   ]
  },
  {
   "cell_type": "code",
   "execution_count": 17,
   "metadata": {},
   "outputs": [],
   "source": [
    "random_forest_grid, train_X, val_X, train_y, val_y = modelizing_GridSearchCV(y, X, {'random_state':[1]}, RandomForestRegressor())"
   ]
  },
  {
   "cell_type": "code",
   "execution_count": 18,
   "metadata": {},
   "outputs": [],
   "source": [
    "ytrain_pred = random_forest_grid.predict(train_X)\n",
    "ytest_pred = random_forest_grid.predict(val_X)"
   ]
  },
  {
   "cell_type": "code",
   "execution_count": 22,
   "metadata": {},
   "outputs": [
    {
     "output_type": "stream",
     "name": "stdout",
     "text": [
      "0.028479520650336595\n"
     ]
    }
   ],
   "source": [
    "print(mean_absolute_error(val_y, ytest_pred))"
   ]
  },
  {
   "source": [
    "# Troisième aperçu d'un modèle : XGBoost"
   ],
   "cell_type": "markdown",
   "metadata": {}
  },
  {
   "cell_type": "code",
   "execution_count": 1,
   "metadata": {},
   "outputs": [],
   "source": [
    "from xgboost import XGBRegressor"
   ]
  },
  {
   "cell_type": "code",
   "execution_count": 10,
   "metadata": {},
   "outputs": [],
   "source": [
    "xgboost_y = xgboost_data[\"logerror\"].values.astype(np.float32)\n",
    "xgboost_X = one_hot_encoding_X.drop(['parcelid', 'logerror'], axis=1)\n",
    "X_train, X_val, y_train, y_val = train_test_split(xgboost_X, xgboost_y, random_state = 1)"
   ]
  },
  {
   "cell_type": "code",
   "execution_count": 11,
   "metadata": {},
   "outputs": [
    {
     "output_type": "execute_result",
     "data": {
      "text/plain": [
       "XGBRegressor(base_score=0.5, booster='gbtree', colsample_bylevel=1,\n",
       "             colsample_bynode=1, colsample_bytree=1, gamma=0, gpu_id=-1,\n",
       "             importance_type='gain', interaction_constraints='',\n",
       "             learning_rate=0.05, max_delta_step=0, max_depth=6,\n",
       "             min_child_weight=1, missing=nan, monotone_constraints='()',\n",
       "             n_estimators=1000, n_jobs=8, num_parallel_tree=1, random_state=0,\n",
       "             reg_alpha=0, reg_lambda=1, scale_pos_weight=1, subsample=1,\n",
       "             tree_method='exact', validate_parameters=1, verbosity=None)"
      ]
     },
     "metadata": {},
     "execution_count": 11
    }
   ],
   "source": [
    "my_model = XGBRegressor(n_estimators = 1000, learning_rate = 0.05)\n",
    "my_model.fit(X_train, y_train, early_stopping_rounds=5, eval_set=[(X_val, y_val)], verbose=False)"
   ]
  },
  {
   "cell_type": "code",
   "execution_count": 12,
   "metadata": {},
   "outputs": [
    {
     "output_type": "stream",
     "name": "stdout",
     "text": [
      "Mean Absolute Error: 0.06933563\n"
     ]
    }
   ],
   "source": [
    "predictions = my_model.predict(X_val)\n",
    "print(\"Mean Absolute Error: \" + str(mean_absolute_error(predictions, y_val)))"
   ]
  },
  {
   "source": [
    "# Quatrième aperçu d'un modèle : régression linéaire"
   ],
   "cell_type": "markdown",
   "metadata": {}
  },
  {
   "source": [
    "## 1. Régression linéaire classique"
   ],
   "cell_type": "markdown",
   "metadata": {}
  },
  {
   "cell_type": "code",
   "execution_count": 27,
   "metadata": {},
   "outputs": [],
   "source": [
    "from sklearn import linear_model\n",
    "\n",
    "def modelizing_linear_regression(target_value, evaluated_values):\n",
    "    y = target_value\n",
    "    X = evaluated_values\n",
    "    xtrain, xtest, ytrain, ytest = train_test_split(X, y, train_size=0.8)\n",
    "    regr = linear_model.LinearRegression()\n",
    "    regr.fit(xtrain, ytrain)\n",
    "    return regr, xtrain, ytrain, xtest, ytest\n",
    "\n",
    "defined_regr, x_train, y_train, x_test, y_test = modelizing_linear_regression(y, X)"
   ]
  },
  {
   "cell_type": "code",
   "execution_count": 18,
   "metadata": {},
   "outputs": [],
   "source": [
    "def get_model_metrics(model, X, y, b1=True, b0=True, title=None):\n",
    "    \"\"\"\n",
    "        Separate data in train and test sets,\n",
    "        fit the model,\n",
    "        make predictions on train and test datas,\n",
    "        print metrics\n",
    "\n",
    "        params:\n",
    "            model(function): model used with params (ie: Lasso(alpha=x)) \n",
    "            X(DataFrame): DataFrame subset with selected features,\n",
    "            y(Series): variable to predict\n",
    "\n",
    "        returns: \n",
    "                print β1, β0, R2 and RMSE\n",
    "    \"\"\"\n",
    "    # Split des datas\n",
    "    x_train, x_test, y_train, y_test = train_test_split(\n",
    "        X, y, train_size=0.8, random_state=1\n",
    "    )\n",
    "    model.fit(x_train, y_train)\n",
    "    if title:\n",
    "        print(f\"{title} : \")\n",
    "    if b1:\n",
    "        # Affichage des β1 pour chaque variable\n",
    "        for idx, name in enumerate(X_train.columns):\n",
    "            print(f\"β1 de {name} : {round(model.coef_[idx], 3)}\")\n",
    "    if b0:\n",
    "        print(f\"β0 (intercept_) : {round(model.intercept_, 3)}\\n\")\n",
    "\n",
    "    y_train_pred = model.predict(x_train)\n",
    "    y_test_pred = model.predict(x_test)\n",
    "\n",
    "    y_list = [y_train, y_train_pred, y_test, y_test_pred]\n",
    "    get_r2_rmse(y_list)\n",
    "\n",
    "\n",
    "def get_r2_rmse(y_list):\n",
    "    \"\"\"\n",
    "        calculate R2 and RMSE for each sets (train and test)\n",
    "        and format output\n",
    "\n",
    "        param:\n",
    "            y_list = [\n",
    "                y_train, \n",
    "                y_train_pred, \n",
    "                y_test, \n",
    "                y_test_pred\n",
    "            ]\n",
    "    \"\"\"\n",
    "\n",
    "    sets = [\"Training\", \"Testing \"]\n",
    "    i = 0\n",
    "    for set in sets:\n",
    "        r2 = round(r2_score(y_list[i], y_list[i+1]), 3)\n",
    "        rmse = round(mean_squared_error(\n",
    "            y_list[i], y_list[i+1], squared=False), 3)\n",
    "        print(\n",
    "            \"{} set : R2 = {}, RMSE = {}\".format(set, r2, rmse)\n",
    "        )\n",
    "        i += 2\n",
    "    print(\"\\n\")"
   ]
  },
  {
   "cell_type": "code",
   "execution_count": 19,
   "metadata": {},
   "outputs": [],
   "source": [
    "ytrain_pred = defined_regr.predict(x_train)\n",
    "ytest_pred = defined_regr.predict(x_test)"
   ]
  },
  {
   "cell_type": "code",
   "execution_count": 23,
   "metadata": {},
   "outputs": [
    {
     "output_type": "stream",
     "name": "stdout",
     "text": [
      "Pour les données d'entrainement le R2 vaut 0.005 alors que pour les données de test, il est de 0.003\n"
     ]
    }
   ],
   "source": [
    "print (\"Pour les données d'entrainement le R2 vaut {} alors que pour les données de test, il est de {}\" \n",
    "      .format(round(r2_score(y_train, ytrain_pred),3), round(r2_score(y_test, ytest_pred),3)))"
   ]
  },
  {
   "cell_type": "code",
   "execution_count": 24,
   "metadata": {},
   "outputs": [
    {
     "output_type": "stream",
     "name": "stdout",
     "text": [
      "Pour les données d'entrainement le RMSE vaut 0.166 alors que pour les données de test, il est de 0.164\n"
     ]
    }
   ],
   "source": [
    "print (\"Pour les données d'entrainement le RMSE vaut {} alors que pour les données de test, il est de {}\" \n",
    "      .format(round(mean_squared_error(y_train, ytrain_pred, squared=False),3), \n",
    "              round(mean_squared_error(y_test, ytest_pred, squared=False),3)))"
   ]
  },
  {
   "cell_type": "code",
   "execution_count": 25,
   "metadata": {},
   "outputs": [
    {
     "output_type": "stream",
     "name": "stdout",
     "text": [
      "0.06942737287429818\n0.0695109694233321\n"
     ]
    }
   ],
   "source": [
    "print(mean_absolute_error(y_train, ytrain_pred))\n",
    "print(mean_absolute_error(y_test, ytest_pred))"
   ]
  },
  {
   "source": [
    "## 2. Régression Ridge"
   ],
   "cell_type": "markdown",
   "metadata": {}
  },
  {
   "source": [
    "### GridSearchCV"
   ],
   "cell_type": "markdown",
   "metadata": {}
  },
  {
   "cell_type": "code",
   "execution_count": 29,
   "metadata": {},
   "outputs": [
    {
     "output_type": "stream",
     "name": "stderr",
     "text": [
      "/home/apprenant/anaconda3/lib/python3.8/site-packages/sklearn/linear_model/_ridge.py:147: LinAlgWarning: Ill-conditioned matrix (rcond=2.68055e-17): result may not be accurate.\n",
      "  return linalg.solve(A, Xy, sym_pos=True,\n",
      "/home/apprenant/anaconda3/lib/python3.8/site-packages/sklearn/linear_model/_ridge.py:147: LinAlgWarning: Ill-conditioned matrix (rcond=4.58923e-31): result may not be accurate.\n",
      "  return linalg.solve(A, Xy, sym_pos=True,\n",
      "/home/apprenant/anaconda3/lib/python3.8/site-packages/sklearn/linear_model/_ridge.py:147: LinAlgWarning: Ill-conditioned matrix (rcond=3.1764e-31): result may not be accurate.\n",
      "  return linalg.solve(A, Xy, sym_pos=True,\n",
      "/home/apprenant/anaconda3/lib/python3.8/site-packages/sklearn/linear_model/_ridge.py:147: LinAlgWarning: Ill-conditioned matrix (rcond=2.88452e-31): result may not be accurate.\n",
      "  return linalg.solve(A, Xy, sym_pos=True,\n",
      "/home/apprenant/anaconda3/lib/python3.8/site-packages/sklearn/linear_model/_ridge.py:147: LinAlgWarning: Ill-conditioned matrix (rcond=9.1568e-31): result may not be accurate.\n",
      "  return linalg.solve(A, Xy, sym_pos=True,\n",
      "/home/apprenant/anaconda3/lib/python3.8/site-packages/sklearn/linear_model/_ridge.py:147: LinAlgWarning: Ill-conditioned matrix (rcond=6.33766e-31): result may not be accurate.\n",
      "  return linalg.solve(A, Xy, sym_pos=True,\n",
      "/home/apprenant/anaconda3/lib/python3.8/site-packages/sklearn/linear_model/_ridge.py:147: LinAlgWarning: Ill-conditioned matrix (rcond=5.75543e-31): result may not be accurate.\n",
      "  return linalg.solve(A, Xy, sym_pos=True,\n",
      "/home/apprenant/anaconda3/lib/python3.8/site-packages/sklearn/linear_model/_ridge.py:147: LinAlgWarning: Ill-conditioned matrix (rcond=4.88217e-31): result may not be accurate.\n",
      "  return linalg.solve(A, Xy, sym_pos=True,\n",
      "/home/apprenant/anaconda3/lib/python3.8/site-packages/sklearn/linear_model/_ridge.py:147: LinAlgWarning: Ill-conditioned matrix (rcond=1.37034e-30): result may not be accurate.\n",
      "  return linalg.solve(A, Xy, sym_pos=True,\n",
      "/home/apprenant/anaconda3/lib/python3.8/site-packages/sklearn/linear_model/_ridge.py:147: LinAlgWarning: Ill-conditioned matrix (rcond=9.48426e-31): result may not be accurate.\n",
      "  return linalg.solve(A, Xy, sym_pos=True,\n",
      "/home/apprenant/anaconda3/lib/python3.8/site-packages/sklearn/linear_model/_ridge.py:147: LinAlgWarning: Ill-conditioned matrix (rcond=8.61316e-31): result may not be accurate.\n",
      "  return linalg.solve(A, Xy, sym_pos=True,\n",
      "/home/apprenant/anaconda3/lib/python3.8/site-packages/sklearn/linear_model/_ridge.py:147: LinAlgWarning: Ill-conditioned matrix (rcond=9.82439e-31): result may not be accurate.\n",
      "  return linalg.solve(A, Xy, sym_pos=True,\n",
      "/home/apprenant/anaconda3/lib/python3.8/site-packages/sklearn/linear_model/_ridge.py:147: LinAlgWarning: Ill-conditioned matrix (rcond=1.82298e-30): result may not be accurate.\n",
      "  return linalg.solve(A, Xy, sym_pos=True,\n",
      "/home/apprenant/anaconda3/lib/python3.8/site-packages/sklearn/linear_model/_ridge.py:147: LinAlgWarning: Ill-conditioned matrix (rcond=1.26167e-30): result may not be accurate.\n",
      "  return linalg.solve(A, Xy, sym_pos=True,\n",
      "/home/apprenant/anaconda3/lib/python3.8/site-packages/sklearn/linear_model/_ridge.py:147: LinAlgWarning: Ill-conditioned matrix (rcond=1.14581e-30): result may not be accurate.\n",
      "  return linalg.solve(A, Xy, sym_pos=True,\n",
      "/home/apprenant/anaconda3/lib/python3.8/site-packages/sklearn/linear_model/_ridge.py:147: LinAlgWarning: Ill-conditioned matrix (rcond=1.30727e-30): result may not be accurate.\n",
      "  return linalg.solve(A, Xy, sym_pos=True,\n",
      "/home/apprenant/anaconda3/lib/python3.8/site-packages/sklearn/linear_model/_ridge.py:147: LinAlgWarning: Ill-conditioned matrix (rcond=2.27364e-30): result may not be accurate.\n",
      "  return linalg.solve(A, Xy, sym_pos=True,\n",
      "/home/apprenant/anaconda3/lib/python3.8/site-packages/sklearn/linear_model/_ridge.py:147: LinAlgWarning: Ill-conditioned matrix (rcond=1.57354e-30): result may not be accurate.\n",
      "  return linalg.solve(A, Xy, sym_pos=True,\n",
      "/home/apprenant/anaconda3/lib/python3.8/site-packages/sklearn/linear_model/_ridge.py:147: LinAlgWarning: Ill-conditioned matrix (rcond=1.42907e-30): result may not be accurate.\n",
      "  return linalg.solve(A, Xy, sym_pos=True,\n",
      "/home/apprenant/anaconda3/lib/python3.8/site-packages/sklearn/linear_model/_ridge.py:147: LinAlgWarning: Ill-conditioned matrix (rcond=1.63082e-30): result may not be accurate.\n",
      "  return linalg.solve(A, Xy, sym_pos=True,\n",
      "/home/apprenant/anaconda3/lib/python3.8/site-packages/sklearn/linear_model/_ridge.py:147: LinAlgWarning: Ill-conditioned matrix (rcond=2.72239e-30): result may not be accurate.\n",
      "  return linalg.solve(A, Xy, sym_pos=True,\n",
      "/home/apprenant/anaconda3/lib/python3.8/site-packages/sklearn/linear_model/_ridge.py:147: LinAlgWarning: Ill-conditioned matrix (rcond=1.88407e-30): result may not be accurate.\n",
      "  return linalg.solve(A, Xy, sym_pos=True,\n",
      "/home/apprenant/anaconda3/lib/python3.8/site-packages/sklearn/linear_model/_ridge.py:147: LinAlgWarning: Ill-conditioned matrix (rcond=1.71113e-30): result may not be accurate.\n",
      "  return linalg.solve(A, Xy, sym_pos=True,\n",
      "/home/apprenant/anaconda3/lib/python3.8/site-packages/sklearn/linear_model/_ridge.py:147: LinAlgWarning: Ill-conditioned matrix (rcond=1.95315e-30): result may not be accurate.\n",
      "  return linalg.solve(A, Xy, sym_pos=True,\n",
      "/home/apprenant/anaconda3/lib/python3.8/site-packages/sklearn/linear_model/_ridge.py:147: LinAlgWarning: Ill-conditioned matrix (rcond=3.1693e-30): result may not be accurate.\n",
      "  return linalg.solve(A, Xy, sym_pos=True,\n",
      "/home/apprenant/anaconda3/lib/python3.8/site-packages/sklearn/linear_model/_ridge.py:147: LinAlgWarning: Ill-conditioned matrix (rcond=2.19332e-30): result may not be accurate.\n",
      "  return linalg.solve(A, Xy, sym_pos=True,\n",
      "/home/apprenant/anaconda3/lib/python3.8/site-packages/sklearn/linear_model/_ridge.py:147: LinAlgWarning: Ill-conditioned matrix (rcond=1.99203e-30): result may not be accurate.\n",
      "  return linalg.solve(A, Xy, sym_pos=True,\n",
      "/home/apprenant/anaconda3/lib/python3.8/site-packages/sklearn/linear_model/_ridge.py:147: LinAlgWarning: Ill-conditioned matrix (rcond=1.95288e-30): result may not be accurate.\n",
      "  return linalg.solve(A, Xy, sym_pos=True,\n",
      "/home/apprenant/anaconda3/lib/python3.8/site-packages/sklearn/linear_model/_ridge.py:147: LinAlgWarning: Ill-conditioned matrix (rcond=3.61441e-30): result may not be accurate.\n",
      "  return linalg.solve(A, Xy, sym_pos=True,\n",
      "/home/apprenant/anaconda3/lib/python3.8/site-packages/sklearn/linear_model/_ridge.py:147: LinAlgWarning: Ill-conditioned matrix (rcond=2.50131e-30): result may not be accurate.\n",
      "  return linalg.solve(A, Xy, sym_pos=True,\n",
      "/home/apprenant/anaconda3/lib/python3.8/site-packages/sklearn/linear_model/_ridge.py:147: LinAlgWarning: Ill-conditioned matrix (rcond=2.27179e-30): result may not be accurate.\n",
      "  return linalg.solve(A, Xy, sym_pos=True,\n",
      "/home/apprenant/anaconda3/lib/python3.8/site-packages/sklearn/linear_model/_ridge.py:147: LinAlgWarning: Ill-conditioned matrix (rcond=2.59425e-30): result may not be accurate.\n",
      "  return linalg.solve(A, Xy, sym_pos=True,\n",
      "/home/apprenant/anaconda3/lib/python3.8/site-packages/sklearn/linear_model/_ridge.py:147: LinAlgWarning: Ill-conditioned matrix (rcond=4.05778e-30): result may not be accurate.\n",
      "  return linalg.solve(A, Xy, sym_pos=True,\n",
      "/home/apprenant/anaconda3/lib/python3.8/site-packages/sklearn/linear_model/_ridge.py:147: LinAlgWarning: Ill-conditioned matrix (rcond=2.80809e-30): result may not be accurate.\n",
      "  return linalg.solve(A, Xy, sym_pos=True,\n",
      "/home/apprenant/anaconda3/lib/python3.8/site-packages/sklearn/linear_model/_ridge.py:147: LinAlgWarning: Ill-conditioned matrix (rcond=2.55047e-30): result may not be accurate.\n",
      "  return linalg.solve(A, Xy, sym_pos=True,\n",
      "/home/apprenant/anaconda3/lib/python3.8/site-packages/sklearn/linear_model/_ridge.py:147: LinAlgWarning: Ill-conditioned matrix (rcond=2.91308e-30): result may not be accurate.\n",
      "  return linalg.solve(A, Xy, sym_pos=True,\n",
      "/home/apprenant/anaconda3/lib/python3.8/site-packages/sklearn/linear_model/_ridge.py:147: LinAlgWarning: Ill-conditioned matrix (rcond=2.3364e-30): result may not be accurate.\n",
      "  return linalg.solve(A, Xy, sym_pos=True,\n"
     ]
    }
   ],
   "source": [
    "ridge_grid, train_X, val_X, train_y, val_y = modelizing_GridSearchCV(y, X, {'alpha':np.arange(0, 10, 1).tolist(), 'normalize':[True,False]}, linear_model.Ridge())"
   ]
  },
  {
   "cell_type": "code",
   "execution_count": 30,
   "metadata": {},
   "outputs": [
    {
     "output_type": "stream",
     "name": "stdout",
     "text": [
      "Ridge(alpha=9)\n"
     ]
    }
   ],
   "source": [
    "print(ridge_grid.best_estimator_)"
   ]
  },
  {
   "cell_type": "code",
   "execution_count": 32,
   "metadata": {},
   "outputs": [
    {
     "output_type": "stream",
     "name": "stdout",
     "text": [
      "Training set : R2 = 0.006, RMSE = 0.166\nTesting  set : R2 = 0.001, RMSE = 0.162\n\n\n"
     ]
    }
   ],
   "source": [
    "get_model_metrics(linear_model.Ridge(alpha=9), X, y, b1=False, b0=False)"
   ]
  },
  {
   "cell_type": "code",
   "execution_count": 33,
   "metadata": {},
   "outputs": [
    {
     "output_type": "stream",
     "name": "stdout",
     "text": [
      "0.06918224215241829\n"
     ]
    }
   ],
   "source": [
    "ytest_pred_ridge = ridge_grid.predict(val_X)\n",
    "print(mean_absolute_error(val_y, ytest_pred_ridge))"
   ]
  },
  {
   "source": [
    "### RandomizedSearchCV"
   ],
   "cell_type": "markdown",
   "metadata": {}
  },
  {
   "cell_type": "code",
   "execution_count": 62,
   "metadata": {},
   "outputs": [],
   "source": [
    "from sklearn.model_selection import RandomizedSearchCV\n",
    "from scipy.stats import uniform\n",
    "\n",
    "def modelizing_RandomizedSearchCV(target_value, evaluated_values, defined_parameters, model_name, n_iter=10, cv=5, random_state=None):\n",
    "    y = target_value\n",
    "    x = evaluated_values\n",
    "    xtrain, xtest, ytrain, ytest = train_test_split(X, y, train_size=0.8)\n",
    "    parameters = defined_parameters\n",
    "    model = model_name\n",
    "    regr = RandomizedSearchCV(model, parameters, n_iter=n_iter, cv=cv, random_state=random_state)\n",
    "    regr.fit(x, y)\n",
    "    return regr, xtrain, ytrain, xtest, ytest"
   ]
  },
  {
   "cell_type": "code",
   "execution_count": 63,
   "metadata": {},
   "outputs": [
    {
     "output_type": "stream",
     "name": "stderr",
     "text": [
      "/home/apprenant/anaconda3/lib/python3.8/site-packages/sklearn/linear_model/_ridge.py:147: LinAlgWarning: Ill-conditioned matrix (rcond=4.20179e-30): result may not be accurate.\n",
      "  return linalg.solve(A, Xy, sym_pos=True,\n",
      "/home/apprenant/anaconda3/lib/python3.8/site-packages/sklearn/linear_model/_ridge.py:147: LinAlgWarning: Ill-conditioned matrix (rcond=2.90772e-30): result may not be accurate.\n",
      "  return linalg.solve(A, Xy, sym_pos=True,\n",
      "/home/apprenant/anaconda3/lib/python3.8/site-packages/sklearn/linear_model/_ridge.py:147: LinAlgWarning: Ill-conditioned matrix (rcond=2.64097e-30): result may not be accurate.\n",
      "  return linalg.solve(A, Xy, sym_pos=True,\n",
      "/home/apprenant/anaconda3/lib/python3.8/site-packages/sklearn/linear_model/_ridge.py:147: LinAlgWarning: Ill-conditioned matrix (rcond=3.01664e-30): result may not be accurate.\n",
      "  return linalg.solve(A, Xy, sym_pos=True,\n",
      "/home/apprenant/anaconda3/lib/python3.8/site-packages/sklearn/linear_model/_ridge.py:147: LinAlgWarning: Ill-conditioned matrix (rcond=1.38093e-30): result may not be accurate.\n",
      "  return linalg.solve(A, Xy, sym_pos=True,\n",
      "/home/apprenant/anaconda3/lib/python3.8/site-packages/sklearn/linear_model/_ridge.py:147: LinAlgWarning: Ill-conditioned matrix (rcond=9.55749e-31): result may not be accurate.\n",
      "  return linalg.solve(A, Xy, sym_pos=True,\n",
      "/home/apprenant/anaconda3/lib/python3.8/site-packages/sklearn/linear_model/_ridge.py:147: LinAlgWarning: Ill-conditioned matrix (rcond=8.67966e-31): result may not be accurate.\n",
      "  return linalg.solve(A, Xy, sym_pos=True,\n",
      "/home/apprenant/anaconda3/lib/python3.8/site-packages/sklearn/linear_model/_ridge.py:147: LinAlgWarning: Ill-conditioned matrix (rcond=9.90028e-31): result may not be accurate.\n",
      "  return linalg.solve(A, Xy, sym_pos=True,\n",
      "/home/apprenant/anaconda3/lib/python3.8/site-packages/sklearn/linear_model/_ridge.py:147: LinAlgWarning: Ill-conditioned matrix (rcond=1.08001e-30): result may not be accurate.\n",
      "  return linalg.solve(A, Xy, sym_pos=True,\n",
      "/home/apprenant/anaconda3/lib/python3.8/site-packages/sklearn/linear_model/_ridge.py:147: LinAlgWarning: Ill-conditioned matrix (rcond=7.4749e-31): result may not be accurate.\n",
      "  return linalg.solve(A, Xy, sym_pos=True,\n",
      "/home/apprenant/anaconda3/lib/python3.8/site-packages/sklearn/linear_model/_ridge.py:147: LinAlgWarning: Ill-conditioned matrix (rcond=6.78825e-31): result may not be accurate.\n",
      "  return linalg.solve(A, Xy, sym_pos=True,\n",
      "/home/apprenant/anaconda3/lib/python3.8/site-packages/sklearn/linear_model/_ridge.py:147: LinAlgWarning: Ill-conditioned matrix (rcond=7.74161e-31): result may not be accurate.\n",
      "  return linalg.solve(A, Xy, sym_pos=True,\n",
      "/home/apprenant/anaconda3/lib/python3.8/site-packages/sklearn/linear_model/_ridge.py:147: LinAlgWarning: Ill-conditioned matrix (rcond=8.53053e-31): result may not be accurate.\n",
      "  return linalg.solve(A, Xy, sym_pos=True,\n",
      "/home/apprenant/anaconda3/lib/python3.8/site-packages/sklearn/linear_model/_ridge.py:147: LinAlgWarning: Ill-conditioned matrix (rcond=5.90419e-31): result may not be accurate.\n",
      "  return linalg.solve(A, Xy, sym_pos=True,\n",
      "/home/apprenant/anaconda3/lib/python3.8/site-packages/sklearn/linear_model/_ridge.py:147: LinAlgWarning: Ill-conditioned matrix (rcond=5.36176e-31): result may not be accurate.\n",
      "  return linalg.solve(A, Xy, sym_pos=True,\n",
      "/home/apprenant/anaconda3/lib/python3.8/site-packages/sklearn/linear_model/_ridge.py:147: LinAlgWarning: Ill-conditioned matrix (rcond=3.0343e-30): result may not be accurate.\n",
      "  return linalg.solve(A, Xy, sym_pos=True,\n",
      "/home/apprenant/anaconda3/lib/python3.8/site-packages/sklearn/linear_model/_ridge.py:147: LinAlgWarning: Ill-conditioned matrix (rcond=2.09989e-30): result may not be accurate.\n",
      "  return linalg.solve(A, Xy, sym_pos=True,\n",
      "/home/apprenant/anaconda3/lib/python3.8/site-packages/sklearn/linear_model/_ridge.py:147: LinAlgWarning: Ill-conditioned matrix (rcond=1.90717e-30): result may not be accurate.\n",
      "  return linalg.solve(A, Xy, sym_pos=True,\n",
      "/home/apprenant/anaconda3/lib/python3.8/site-packages/sklearn/linear_model/_ridge.py:147: LinAlgWarning: Ill-conditioned matrix (rcond=2.17725e-30): result may not be accurate.\n",
      "  return linalg.solve(A, Xy, sym_pos=True,\n",
      "/home/apprenant/anaconda3/lib/python3.8/site-packages/sklearn/linear_model/_ridge.py:147: LinAlgWarning: Ill-conditioned matrix (rcond=2.4196e-30): result may not be accurate.\n",
      "  return linalg.solve(A, Xy, sym_pos=True,\n"
     ]
    }
   ],
   "source": [
    "ridge_randomized, xtrain, ytrain, xtest, ytest = modelizing_RandomizedSearchCV(y, X, {'alpha':uniform(loc=0, scale=10), 'normalize':[True, False]}, linear_model.Ridge(), random_state=1)"
   ]
  },
  {
   "cell_type": "code",
   "execution_count": 64,
   "metadata": {},
   "outputs": [
    {
     "output_type": "stream",
     "name": "stdout",
     "text": [
      "Ridge(alpha=9.325573593386588)\n"
     ]
    }
   ],
   "source": [
    "print(ridge_randomized.best_estimator_)"
   ]
  },
  {
   "cell_type": "code",
   "execution_count": 65,
   "metadata": {},
   "outputs": [
    {
     "output_type": "stream",
     "name": "stdout",
     "text": [
      "Training set : R2 = 0.005, RMSE = 0.166\nTesting  set : R2 = 0.0, RMSE = 0.162\n\n\n"
     ]
    }
   ],
   "source": [
    "get_model_metrics(linear_model.Ridge(alpha=9.325573593386588), X, y, b1=False, b0=False)"
   ]
  },
  {
   "cell_type": "code",
   "execution_count": 66,
   "metadata": {},
   "outputs": [
    {
     "output_type": "stream",
     "name": "stdout",
     "text": [
      "0.06863828428555449\n"
     ]
    }
   ],
   "source": [
    "ytest_pred_ridge_randomized = ridge_randomized.predict(xtest)\n",
    "print(mean_absolute_error(ytest, ytest_pred_ridge_randomized))"
   ]
  },
  {
   "source": [
    "## 3. Régression Lasso"
   ],
   "cell_type": "markdown",
   "metadata": {}
  },
  {
   "source": [
    "### GridSearchCV"
   ],
   "cell_type": "markdown",
   "metadata": {}
  },
  {
   "cell_type": "code",
   "execution_count": 39,
   "metadata": {},
   "outputs": [],
   "source": [
    "lasso_grid, train_X, val_X, train_y, val_y = modelizing_GridSearchCV(y, X, {'alpha':np.arange(100, 110, 1).tolist(), 'normalize':[True,False]}, linear_model.Lasso())"
   ]
  },
  {
   "cell_type": "code",
   "execution_count": 40,
   "metadata": {},
   "outputs": [
    {
     "output_type": "stream",
     "name": "stdout",
     "text": [
      "Lasso(alpha=100, normalize=True)\n"
     ]
    }
   ],
   "source": [
    "print(lasso_grid.best_estimator_)"
   ]
  },
  {
   "cell_type": "code",
   "execution_count": 41,
   "metadata": {},
   "outputs": [
    {
     "output_type": "stream",
     "name": "stdout",
     "text": [
      "Training set : R2 = 0.006, RMSE = 0.166\n",
      "Testing  set : R2 = 0.001, RMSE = 0.162\n",
      "\n",
      "\n",
      "/home/apprenant/anaconda3/lib/python3.8/site-packages/sklearn/linear_model/_ridge.py:147: LinAlgWarning: Ill-conditioned matrix (rcond=2.60389e-29): result may not be accurate.\n",
      "  return linalg.solve(A, Xy, sym_pos=True,\n"
     ]
    }
   ],
   "source": [
    "get_model_metrics(linear_model.Ridge(alpha=100), X, y, b1=False, b0=False)"
   ]
  },
  {
   "cell_type": "code",
   "execution_count": 42,
   "metadata": {},
   "outputs": [
    {
     "output_type": "stream",
     "name": "stdout",
     "text": [
      "0.069164405191441\n"
     ]
    }
   ],
   "source": [
    "ytest_pred_lasso_grid = lasso_grid.predict(val_X)\n",
    "print(mean_absolute_error(val_y, ytest_pred_lasso_grid))"
   ]
  },
  {
   "source": [
    "### RandomizedSearchCV"
   ],
   "cell_type": "markdown",
   "metadata": {}
  },
  {
   "cell_type": "code",
   "execution_count": 43,
   "metadata": {},
   "outputs": [],
   "source": [
    "lasso_randomized, xtrain, ytrain, xtest, ytest = modelizing_RandomizedSearchCV(y, X, {'alpha':uniform(loc=100, scale=300), 'normalize':[True, False]}, linear_model.Lasso(), random_state=1)"
   ]
  },
  {
   "cell_type": "code",
   "execution_count": 44,
   "metadata": {},
   "outputs": [
    {
     "output_type": "stream",
     "name": "stdout",
     "text": [
      "Lasso(alpha=225.1066014107722, normalize=True)\n"
     ]
    }
   ],
   "source": [
    "print(lasso_randomized.best_estimator_)"
   ]
  },
  {
   "cell_type": "code",
   "execution_count": 46,
   "metadata": {},
   "outputs": [
    {
     "output_type": "stream",
     "name": "stdout",
     "text": [
      "Training set : R2 = 0.0, RMSE = 0.167\nTesting  set : R2 = -0.0, RMSE = 0.162\n\n\n"
     ]
    }
   ],
   "source": [
    "get_model_metrics(linear_model.Lasso(alpha=225.1066014107722), X, y, b1=False, b0=False)"
   ]
  },
  {
   "cell_type": "code",
   "execution_count": 47,
   "metadata": {},
   "outputs": [
    {
     "output_type": "stream",
     "name": "stdout",
     "text": [
      "0.0693746914802827\n"
     ]
    }
   ],
   "source": [
    "ytest_pred_lasso_randomized = lasso_randomized.predict(xtest)\n",
    "print(mean_absolute_error(ytest, ytest_pred_lasso_randomized))"
   ]
  },
  {
   "source": [
    "# Sample submission"
   ],
   "cell_type": "markdown",
   "metadata": {}
  },
  {
   "cell_type": "code",
   "execution_count": 67,
   "metadata": {},
   "outputs": [
    {
     "output_type": "execute_result",
     "data": {
      "text/plain": [
       "   ParcelId  201610  201611  201612  201710  201711  201712\n",
       "0  10754147       0       0       0       0       0       0\n",
       "1  10759547       0       0       0       0       0       0\n",
       "2  10843547       0       0       0       0       0       0\n",
       "3  10859147       0       0       0       0       0       0\n",
       "4  10879947       0       0       0       0       0       0"
      ],
      "text/html": "<div>\n<style scoped>\n    .dataframe tbody tr th:only-of-type {\n        vertical-align: middle;\n    }\n\n    .dataframe tbody tr th {\n        vertical-align: top;\n    }\n\n    .dataframe thead th {\n        text-align: right;\n    }\n</style>\n<table border=\"1\" class=\"dataframe\">\n  <thead>\n    <tr style=\"text-align: right;\">\n      <th></th>\n      <th>ParcelId</th>\n      <th>201610</th>\n      <th>201611</th>\n      <th>201612</th>\n      <th>201710</th>\n      <th>201711</th>\n      <th>201712</th>\n    </tr>\n  </thead>\n  <tbody>\n    <tr>\n      <th>0</th>\n      <td>10754147</td>\n      <td>0</td>\n      <td>0</td>\n      <td>0</td>\n      <td>0</td>\n      <td>0</td>\n      <td>0</td>\n    </tr>\n    <tr>\n      <th>1</th>\n      <td>10759547</td>\n      <td>0</td>\n      <td>0</td>\n      <td>0</td>\n      <td>0</td>\n      <td>0</td>\n      <td>0</td>\n    </tr>\n    <tr>\n      <th>2</th>\n      <td>10843547</td>\n      <td>0</td>\n      <td>0</td>\n      <td>0</td>\n      <td>0</td>\n      <td>0</td>\n      <td>0</td>\n    </tr>\n    <tr>\n      <th>3</th>\n      <td>10859147</td>\n      <td>0</td>\n      <td>0</td>\n      <td>0</td>\n      <td>0</td>\n      <td>0</td>\n      <td>0</td>\n    </tr>\n    <tr>\n      <th>4</th>\n      <td>10879947</td>\n      <td>0</td>\n      <td>0</td>\n      <td>0</td>\n      <td>0</td>\n      <td>0</td>\n      <td>0</td>\n    </tr>\n  </tbody>\n</table>\n</div>"
     },
     "metadata": {},
     "execution_count": 67
    }
   ],
   "source": [
    "df_samples = pd.read_csv('/home/apprenant/Documents/Brief-9-Rachid-Karbiche/data/01_raw/sample_submission.csv')\n",
    "df_samples.head()"
   ]
  },
  {
   "cell_type": "code",
   "execution_count": 68,
   "metadata": {},
   "outputs": [
    {
     "output_type": "stream",
     "name": "stderr",
     "text": [
      "/home/apprenant/anaconda3/lib/python3.8/site-packages/numpy/lib/arraysetops.py:583: FutureWarning: elementwise comparison failed; returning scalar instead, but in the future will perform elementwise comparison\n  mask |= (ar1 == a)\n"
     ]
    }
   ],
   "source": [
    "prop_2016_df = pd.read_csv(\"/home/apprenant/Documents/Brief-9-Rachid-Karbiche/data/01_raw/properties_2016.csv\", index_col='parcelid', low_memory=False)"
   ]
  },
  {
   "cell_type": "code",
   "execution_count": 69,
   "metadata": {},
   "outputs": [],
   "source": [
    "df_samples['parcelid'] = df_samples['ParcelId']\n",
    "sub = df_samples.merge(prop_2016_df, on='parcelid', how='left')"
   ]
  },
  {
   "cell_type": "code",
   "execution_count": 70,
   "metadata": {},
   "outputs": [],
   "source": [
    "X_test = prop_2016_df[X.columns].copy()"
   ]
  },
  {
   "cell_type": "code",
   "execution_count": 72,
   "metadata": {},
   "outputs": [
    {
     "output_type": "stream",
     "name": "stderr",
     "text": [
      "/home/apprenant/anaconda3/lib/python3.8/site-packages/sklearn/linear_model/_ridge.py:147: LinAlgWarning: Ill-conditioned matrix (rcond=3.20639e-30): result may not be accurate.\n",
      "  return linalg.solve(A, Xy, sym_pos=True,\n",
      "/home/apprenant/anaconda3/lib/python3.8/site-packages/sklearn/linear_model/_ridge.py:147: LinAlgWarning: Ill-conditioned matrix (rcond=3.67508e-30): result may not be accurate.\n",
      "  return linalg.solve(A, Xy, sym_pos=True,\n",
      "/home/apprenant/anaconda3/lib/python3.8/site-packages/sklearn/linear_model/_ridge.py:147: LinAlgWarning: Ill-conditioned matrix (rcond=1.20678e-30): result may not be accurate.\n",
      "  return linalg.solve(A, Xy, sym_pos=True,\n",
      "/home/apprenant/anaconda3/lib/python3.8/site-packages/sklearn/linear_model/_ridge.py:147: LinAlgWarning: Ill-conditioned matrix (rcond=9.61916e-31): result may not be accurate.\n",
      "  return linalg.solve(A, Xy, sym_pos=True,\n",
      "/home/apprenant/anaconda3/lib/python3.8/site-packages/sklearn/linear_model/_ridge.py:147: LinAlgWarning: Ill-conditioned matrix (rcond=9.43705e-31): result may not be accurate.\n",
      "  return linalg.solve(A, Xy, sym_pos=True,\n",
      "/home/apprenant/anaconda3/lib/python3.8/site-packages/sklearn/linear_model/_ridge.py:147: LinAlgWarning: Ill-conditioned matrix (rcond=7.45334e-31): result may not be accurate.\n",
      "  return linalg.solve(A, Xy, sym_pos=True,\n",
      "/home/apprenant/anaconda3/lib/python3.8/site-packages/sklearn/linear_model/_ridge.py:147: LinAlgWarning: Ill-conditioned matrix (rcond=2.84962e-30): result may not be accurate.\n",
      "  return linalg.solve(A, Xy, sym_pos=True,\n",
      "/home/apprenant/anaconda3/lib/python3.8/site-packages/sklearn/linear_model/_ridge.py:147: LinAlgWarning: Ill-conditioned matrix (rcond=2.65304e-30): result may not be accurate.\n",
      "  return linalg.solve(A, Xy, sym_pos=True,\n"
     ]
    },
    {
     "output_type": "execute_result",
     "data": {
      "text/plain": [
       "Pipeline(steps=[('preprocessor',\n",
       "                 ColumnTransformer(transformers=[('num',\n",
       "                                                  SimpleImputer(strategy='constant'),\n",
       "                                                  ['airconditioningtypeid',\n",
       "                                                   'bathroomcnt', 'bedroomcnt',\n",
       "                                                   'buildingqualitytypeid',\n",
       "                                                   'calculatedbathnbr',\n",
       "                                                   'calculatedfinishedsquarefeet',\n",
       "                                                   'finishedsquarefeet12',\n",
       "                                                   'fips', 'fireplacecnt',\n",
       "                                                   'fullbathcnt',\n",
       "                                                   'garagecarcnt',\n",
       "                                                   'garagetotalsqft',\n",
       "                                                   'heatingorsystemtypeid',\n",
       "                                                   '...\n",
       "                                                   'structuretaxvaluedollarcnt', ...]),\n",
       "                                                 ('cat',\n",
       "                                                  Pipeline(steps=[('imputer',\n",
       "                                                                   SimpleImputer(strategy='most_frequent')),\n",
       "                                                                  ('onehot',\n",
       "                                                                   OneHotEncoder(handle_unknown='ignore'))]),\n",
       "                                                  [])])),\n",
       "                ('model',\n",
       "                 RandomizedSearchCV(cv=5, estimator=Ridge(),\n",
       "                                    param_distributions={'alpha': <scipy.stats._distn_infrastructure.rv_frozen object at 0x7f9507a98a00>,\n",
       "                                                         'normalize': [True,\n",
       "                                                                       False]},\n",
       "                                    random_state=1))])"
      ]
     },
     "metadata": {},
     "execution_count": 72
    }
   ],
   "source": [
    "from sklearn.compose import ColumnTransformer\n",
    "from sklearn.pipeline import Pipeline\n",
    "from sklearn.impute import SimpleImputer\n",
    "from sklearn.preprocessing import OneHotEncoder\n",
    "\n",
    "# Select numerical columns\n",
    "numerical_cols = [cname for cname in train_X.columns if \n",
    "                train_X[cname].dtype in ['int64', 'float64']]\n",
    "\n",
    "# \"Cardinality\" means the number of unique values in a column\n",
    "# Select categorical columns with relatively low cardinality (convenient but arbitrary)\n",
    "categorical_cols = [cname for cname in train_X.columns if\n",
    "                    train_X[cname].nunique() < 10 and \n",
    "                    train_X[cname].dtype == \"object\"]\n",
    "\n",
    "# Preprocessing for numerical data\n",
    "numerical_transformer = SimpleImputer(strategy='constant')\n",
    "\n",
    "# Preprocessing for categorical data\n",
    "categorical_transformer = Pipeline(steps=[\n",
    "    ('imputer', SimpleImputer(strategy='most_frequent')),\n",
    "    ('onehot', OneHotEncoder(handle_unknown='ignore'))\n",
    "])\n",
    "\n",
    "\n",
    "# Bundle preprocessing for numerical and categorical data\n",
    "preprocessor = ColumnTransformer(\n",
    "    transformers=[\n",
    "        ('num', numerical_transformer, numerical_cols),\n",
    "        ('cat', categorical_transformer, categorical_cols)\n",
    "    ])\n",
    "\n",
    "\n",
    "# Bundle preprocessing and modeling code in a pipeline\n",
    "clf = Pipeline(steps=[('preprocessor', preprocessor),\n",
    "                      ('model', ridge_randomized)\n",
    "                     ])\n",
    "\n",
    "# Preprocessing of training data, fit model \n",
    "clf.fit(xtrain, ytrain)"
   ]
  },
  {
   "cell_type": "code",
   "execution_count": 73,
   "metadata": {},
   "outputs": [],
   "source": [
    "preds_full = clf.predict(X_test)"
   ]
  },
  {
   "cell_type": "code",
   "execution_count": 74,
   "metadata": {},
   "outputs": [],
   "source": [
    "sub['201610'] = preds_full\n",
    "sub['201611'] = preds_full\n",
    "sub['201612'] = preds_full\n",
    "sub['201710'] = preds_full\n",
    "sub['201711'] = preds_full\n",
    "sub['201712'] = preds_full"
   ]
  },
  {
   "cell_type": "code",
   "execution_count": 75,
   "metadata": {},
   "outputs": [
    {
     "output_type": "execute_result",
     "data": {
      "text/plain": [
       "   ParcelId    201610    201611    201612    201710    201711    201712  \\\n",
       "0  10754147  0.014027  0.014027  0.014027  0.014027  0.014027  0.014027   \n",
       "1  10759547  0.013393  0.013393  0.013393  0.013393  0.013393  0.013393   \n",
       "2  10843547  0.420356  0.420356  0.420356  0.420356  0.420356  0.420356   \n",
       "3  10859147  0.003041  0.003041  0.003041  0.003041  0.003041  0.003041   \n",
       "4  10879947 -0.002567 -0.002567 -0.002567 -0.002567 -0.002567 -0.002567   \n",
       "\n",
       "   parcelid  airconditioningtypeid  architecturalstyletypeid  ...  \\\n",
       "0  10754147                    NaN                       NaN  ...   \n",
       "1  10759547                    NaN                       NaN  ...   \n",
       "2  10843547                    NaN                       NaN  ...   \n",
       "3  10859147                    NaN                       NaN  ...   \n",
       "4  10879947                    NaN                       NaN  ...   \n",
       "\n",
       "   numberofstories  fireplaceflag  structuretaxvaluedollarcnt  \\\n",
       "0              NaN            NaN                         NaN   \n",
       "1              NaN            NaN                         NaN   \n",
       "2              NaN            NaN                    650756.0   \n",
       "3              1.0            NaN                    571346.0   \n",
       "4              NaN            NaN                    193796.0   \n",
       "\n",
       "   taxvaluedollarcnt  assessmentyear  landtaxvaluedollarcnt  taxamount  \\\n",
       "0                9.0          2015.0                    9.0        NaN   \n",
       "1            27516.0          2015.0                27516.0        NaN   \n",
       "2          1413387.0          2015.0               762631.0   20800.37   \n",
       "3          1156834.0          2015.0               585488.0   14557.57   \n",
       "4           433491.0          2015.0               239695.0    5725.17   \n",
       "\n",
       "   taxdelinquencyflag  taxdelinquencyyear  censustractandblock  \n",
       "0                 NaN                 NaN                  NaN  \n",
       "1                 NaN                 NaN                  NaN  \n",
       "2                 NaN                 NaN                  NaN  \n",
       "3                 NaN                 NaN                  NaN  \n",
       "4                 NaN                 NaN                  NaN  \n",
       "\n",
       "[5 rows x 65 columns]"
      ],
      "text/html": "<div>\n<style scoped>\n    .dataframe tbody tr th:only-of-type {\n        vertical-align: middle;\n    }\n\n    .dataframe tbody tr th {\n        vertical-align: top;\n    }\n\n    .dataframe thead th {\n        text-align: right;\n    }\n</style>\n<table border=\"1\" class=\"dataframe\">\n  <thead>\n    <tr style=\"text-align: right;\">\n      <th></th>\n      <th>ParcelId</th>\n      <th>201610</th>\n      <th>201611</th>\n      <th>201612</th>\n      <th>201710</th>\n      <th>201711</th>\n      <th>201712</th>\n      <th>parcelid</th>\n      <th>airconditioningtypeid</th>\n      <th>architecturalstyletypeid</th>\n      <th>...</th>\n      <th>numberofstories</th>\n      <th>fireplaceflag</th>\n      <th>structuretaxvaluedollarcnt</th>\n      <th>taxvaluedollarcnt</th>\n      <th>assessmentyear</th>\n      <th>landtaxvaluedollarcnt</th>\n      <th>taxamount</th>\n      <th>taxdelinquencyflag</th>\n      <th>taxdelinquencyyear</th>\n      <th>censustractandblock</th>\n    </tr>\n  </thead>\n  <tbody>\n    <tr>\n      <th>0</th>\n      <td>10754147</td>\n      <td>0.014027</td>\n      <td>0.014027</td>\n      <td>0.014027</td>\n      <td>0.014027</td>\n      <td>0.014027</td>\n      <td>0.014027</td>\n      <td>10754147</td>\n      <td>NaN</td>\n      <td>NaN</td>\n      <td>...</td>\n      <td>NaN</td>\n      <td>NaN</td>\n      <td>NaN</td>\n      <td>9.0</td>\n      <td>2015.0</td>\n      <td>9.0</td>\n      <td>NaN</td>\n      <td>NaN</td>\n      <td>NaN</td>\n      <td>NaN</td>\n    </tr>\n    <tr>\n      <th>1</th>\n      <td>10759547</td>\n      <td>0.013393</td>\n      <td>0.013393</td>\n      <td>0.013393</td>\n      <td>0.013393</td>\n      <td>0.013393</td>\n      <td>0.013393</td>\n      <td>10759547</td>\n      <td>NaN</td>\n      <td>NaN</td>\n      <td>...</td>\n      <td>NaN</td>\n      <td>NaN</td>\n      <td>NaN</td>\n      <td>27516.0</td>\n      <td>2015.0</td>\n      <td>27516.0</td>\n      <td>NaN</td>\n      <td>NaN</td>\n      <td>NaN</td>\n      <td>NaN</td>\n    </tr>\n    <tr>\n      <th>2</th>\n      <td>10843547</td>\n      <td>0.420356</td>\n      <td>0.420356</td>\n      <td>0.420356</td>\n      <td>0.420356</td>\n      <td>0.420356</td>\n      <td>0.420356</td>\n      <td>10843547</td>\n      <td>NaN</td>\n      <td>NaN</td>\n      <td>...</td>\n      <td>NaN</td>\n      <td>NaN</td>\n      <td>650756.0</td>\n      <td>1413387.0</td>\n      <td>2015.0</td>\n      <td>762631.0</td>\n      <td>20800.37</td>\n      <td>NaN</td>\n      <td>NaN</td>\n      <td>NaN</td>\n    </tr>\n    <tr>\n      <th>3</th>\n      <td>10859147</td>\n      <td>0.003041</td>\n      <td>0.003041</td>\n      <td>0.003041</td>\n      <td>0.003041</td>\n      <td>0.003041</td>\n      <td>0.003041</td>\n      <td>10859147</td>\n      <td>NaN</td>\n      <td>NaN</td>\n      <td>...</td>\n      <td>1.0</td>\n      <td>NaN</td>\n      <td>571346.0</td>\n      <td>1156834.0</td>\n      <td>2015.0</td>\n      <td>585488.0</td>\n      <td>14557.57</td>\n      <td>NaN</td>\n      <td>NaN</td>\n      <td>NaN</td>\n    </tr>\n    <tr>\n      <th>4</th>\n      <td>10879947</td>\n      <td>-0.002567</td>\n      <td>-0.002567</td>\n      <td>-0.002567</td>\n      <td>-0.002567</td>\n      <td>-0.002567</td>\n      <td>-0.002567</td>\n      <td>10879947</td>\n      <td>NaN</td>\n      <td>NaN</td>\n      <td>...</td>\n      <td>NaN</td>\n      <td>NaN</td>\n      <td>193796.0</td>\n      <td>433491.0</td>\n      <td>2015.0</td>\n      <td>239695.0</td>\n      <td>5725.17</td>\n      <td>NaN</td>\n      <td>NaN</td>\n      <td>NaN</td>\n    </tr>\n  </tbody>\n</table>\n<p>5 rows × 65 columns</p>\n</div>"
     },
     "metadata": {},
     "execution_count": 75
    }
   ],
   "source": [
    "sub.head()"
   ]
  },
  {
   "cell_type": "code",
   "execution_count": 76,
   "metadata": {},
   "outputs": [
    {
     "output_type": "execute_result",
     "data": {
      "text/plain": [
       "   ParcelId    201610    201611    201612    201710    201711    201712\n",
       "0  10754147  0.014027  0.014027  0.014027  0.014027  0.014027  0.014027\n",
       "1  10759547  0.013393  0.013393  0.013393  0.013393  0.013393  0.013393\n",
       "2  10843547  0.420356  0.420356  0.420356  0.420356  0.420356  0.420356\n",
       "3  10859147  0.003041  0.003041  0.003041  0.003041  0.003041  0.003041\n",
       "4  10879947 -0.002567 -0.002567 -0.002567 -0.002567 -0.002567 -0.002567"
      ],
      "text/html": "<div>\n<style scoped>\n    .dataframe tbody tr th:only-of-type {\n        vertical-align: middle;\n    }\n\n    .dataframe tbody tr th {\n        vertical-align: top;\n    }\n\n    .dataframe thead th {\n        text-align: right;\n    }\n</style>\n<table border=\"1\" class=\"dataframe\">\n  <thead>\n    <tr style=\"text-align: right;\">\n      <th></th>\n      <th>ParcelId</th>\n      <th>201610</th>\n      <th>201611</th>\n      <th>201612</th>\n      <th>201710</th>\n      <th>201711</th>\n      <th>201712</th>\n    </tr>\n  </thead>\n  <tbody>\n    <tr>\n      <th>0</th>\n      <td>10754147</td>\n      <td>0.014027</td>\n      <td>0.014027</td>\n      <td>0.014027</td>\n      <td>0.014027</td>\n      <td>0.014027</td>\n      <td>0.014027</td>\n    </tr>\n    <tr>\n      <th>1</th>\n      <td>10759547</td>\n      <td>0.013393</td>\n      <td>0.013393</td>\n      <td>0.013393</td>\n      <td>0.013393</td>\n      <td>0.013393</td>\n      <td>0.013393</td>\n    </tr>\n    <tr>\n      <th>2</th>\n      <td>10843547</td>\n      <td>0.420356</td>\n      <td>0.420356</td>\n      <td>0.420356</td>\n      <td>0.420356</td>\n      <td>0.420356</td>\n      <td>0.420356</td>\n    </tr>\n    <tr>\n      <th>3</th>\n      <td>10859147</td>\n      <td>0.003041</td>\n      <td>0.003041</td>\n      <td>0.003041</td>\n      <td>0.003041</td>\n      <td>0.003041</td>\n      <td>0.003041</td>\n    </tr>\n    <tr>\n      <th>4</th>\n      <td>10879947</td>\n      <td>-0.002567</td>\n      <td>-0.002567</td>\n      <td>-0.002567</td>\n      <td>-0.002567</td>\n      <td>-0.002567</td>\n      <td>-0.002567</td>\n    </tr>\n  </tbody>\n</table>\n</div>"
     },
     "metadata": {},
     "execution_count": 76
    }
   ],
   "source": [
    "sub = sub[['ParcelId', '201610', '201611', '201612', '201710', '201711', '201712']]\n",
    "sub.head()"
   ]
  },
  {
   "cell_type": "code",
   "execution_count": 78,
   "metadata": {},
   "outputs": [],
   "source": [
    "sub.to_csv('/home/apprenant/Documents/Brief-9-Rachid-Karbiche/data/02_intermediate/random_forest2.csv', index=False, float_format='%.4f')"
   ]
  },
  {
   "cell_type": "code",
   "execution_count": null,
   "metadata": {},
   "outputs": [],
   "source": []
  }
 ]
}